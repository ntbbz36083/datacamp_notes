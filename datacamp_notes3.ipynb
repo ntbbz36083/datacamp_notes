{
 "cells": [
  {
   "cell_type": "markdown",
   "metadata": {},
   "source": [
    "## SQL cleaning"
   ]
  },
  {
   "cell_type": "code",
   "execution_count": null,
   "metadata": {},
   "outputs": [],
   "source": [
    "#Use concat, replicate, len\n",
    "SELECT \n",
    "\t-- Concat the strings\n",
    "\tconcat(\n",
    "\t\tcarrier_code, \n",
    "\t\t' - ', \n",
    "      \t-- Replicate zeros\n",
    "\t\tReplicate('0', 9 - len(registration_code)), \n",
    "\t\tregistration_code, \n",
    "\t\t', ', \n",
    "\t\tairport_code)\n",
    "\tAS registration_code\n",
    "FROM flight_statistics\n",
    "-- Filter registers with more than 100 delays\n",
    "WHERE delayed > 100"
   ]
  },
  {
   "cell_type": "code",
   "execution_count": null,
   "metadata": {},
   "outputs": [],
   "source": [
    "#use concat, format\n",
    "SELECT \n",
    "    -- Concat the strings\n",
    "\tconcat(\n",
    "\t\tcarrier_code, \n",
    "\t\t' - ', \n",
    "        -- Format the code\n",
    "\t\tformat(cast(registration_code AS INT), '0000000'),\n",
    "\t\t', ', \n",
    "\t\tairport_code\n",
    "\t) AS registration_code\n",
    "FROM flight_statistics\n",
    "-- Filter registers with more than 100 delays\n",
    "WHERE delayed > 100"
   ]
  },
  {
   "cell_type": "code",
   "execution_count": null,
   "metadata": {},
   "outputs": [],
   "source": [
    "#soundex() difference()\n",
    "SELECT \n",
    "    -- First name and surname of the statisticians\n",
    "\tDISTINCT S1.statistician_name, S1.statistician_surname\n",
    "-- Join flight_statistics with itself\n",
    "FROM flight_statistics S1 INNER JOIN flight_statistics S2 \n",
    "\t-- The SOUNDEX result of the first name and surname have to be the same\n",
    "\tON SOUNDEX(S1.statistician_name) = SOUNDEX(S2.statistician_name) \n",
    "\tAND SOUNDEX(S1.statistician_surname) = SOUNDEX(S2.statistician_surname) \n",
    "-- The texts of the first name or the texts of the surname have to be different\n",
    "WHERE S1.statistician_name <> S2.statistician_name\n",
    "\tOR S1.statistician_surname <> S2.statistician_surname"
   ]
  },
  {
   "cell_type": "code",
   "execution_count": null,
   "metadata": {},
   "outputs": [],
   "source": [
    "SELECT \n",
    "    -- First name and surnames of the statisticians\n",
    "\tDISTINCT S1.statistician_name, S1.statistician_surname\n",
    "-- Join flight_statistics with itself\n",
    "FROM flight_statistics S1 INNER JOIN flight_statistics S2 \n",
    "\t-- The DIFFERENCE of the first name and surname has to be equals to 4\n",
    "\tON difference(S1.statistician_name, S2.statistician_name) = 4\n",
    "\tAND difference(S1.statistician_surname, S2.statistician_surname) = 4\n",
    "-- The texts of the first name or the texts of the surname have to be different\n",
    "WHERE S1.statistician_name <> S2.statistician_name\n",
    "\tOR S1.statistician_surname <> S2.statistician_surname"
   ]
  },
  {
   "cell_type": "code",
   "execution_count": null,
   "metadata": {},
   "outputs": [],
   "source": [
    "#COALESCE, if first 2 are null, then display 3rd value\n",
    "SELECT\n",
    "airport_code,\n",
    "airport_name,\n",
    "-- Replace the missing values\n",
    "COALESCE(airport_city, airport_state, 'Unknown') AS location\n",
    "FROM airports"
   ]
  },
  {
   "cell_type": "code",
   "execution_count": null,
   "metadata": {},
   "outputs": [],
   "source": [
    "#row_number()\n",
    "WITH cte AS (\n",
    "    SELECT *, \n",
    "        ROW_NUMBER() OVER (\n",
    "            PARTITION BY \n",
    "                airport_code, \n",
    "                carrier_code, \n",
    "                registration_date\n",
    "\t\t\tORDER BY \n",
    "                airport_code, \n",
    "                carrier_code, \n",
    "                registration_date\n",
    "        ) row_num\n",
    "    FROM flight_statistics\n",
    ")\n",
    "SELECT * FROM cte\n",
    "-- Exclude duplicates\n",
    "WHERE row_num =1;"
   ]
  },
  {
   "cell_type": "code",
   "execution_count": null,
   "metadata": {},
   "outputs": [],
   "source": [
    "#Use convert to convert date\n",
    "SELECT \n",
    "    airport_code,\n",
    "    carrier_code,\n",
    "    canceled, \n",
    "    airport_code, \n",
    "    -- Convert the registration_date to a DATE and print it in mm/dd/yyyy format\n",
    "    convert(VARCHAR(10), cast(registration_date AS DATE), 101) AS registration_date\n",
    "FROM flight_statistics \n",
    "-- Convert the registration_date to mm/dd/yyyy format\n",
    "WHERE convert(VARCHAR(10), cast(registration_date AS DATE), 101) \n",
    "\t-- Filter the first semester of 2014 in mm/dd/yyyy format \n",
    "\tBETWEEN '01/01/2014' AND '06/30/2014'"
   ]
  },
  {
   "cell_type": "code",
   "execution_count": null,
   "metadata": {},
   "outputs": [],
   "source": [
    "#use format to convert date\n",
    "SELECT \n",
    "\tpilot_code,\n",
    "\tpilot_name,\n",
    "\tpilot_surname,\n",
    "\tcarrier_code,\n",
    "    -- Convert the entry_date to a DATE and print it in dd/MM/yyyy format\n",
    "\tformat(cast(entry_date AS DATE), 'dd/MM/yyyy') AS entry_date\n",
    "from pilots"
   ]
  },
  {
   "cell_type": "code",
   "execution_count": null,
   "metadata": {},
   "outputs": [],
   "source": [
    "# substring and chaindex\n",
    "SELECT \n",
    "\tclient_name,\n",
    "\tclient_surname,\n",
    "    -- Extract the name of the city\n",
    "\tSUBSTRING(city_state, 1, CHARINDEX(', ', city_state) - 1) AS city,\n",
    "    -- Extract the name of the state\n",
    "    SUBSTRING(city_state, CHARINDEX(', ', city_state) + 1, LEN(city_state)) AS state\n",
    "FROM clients_split"
   ]
  },
  {
   "cell_type": "code",
   "execution_count": null,
   "metadata": {},
   "outputs": [],
   "source": [
    "#pivot and unpivot\n",
    "#pivot turns rows to columns\n",
    "#unpivot turns columns to rows\n",
    "SELECT\n",
    "\tyear_of_sale,\n",
    "    -- Select the pivoted columns\n",
    "\tnotebooks, \n",
    "\tpencils, \n",
    "\tcrayons\n",
    "FROM\n",
    "   (SELECT \n",
    "\t\tSUBSTRING(product_name_units, 1, charindex('-', product_name_units)-1) product_name, \n",
    "\t\tCAST(SUBSTRING(product_name_units, charindex('-', product_name_units)+1, len(product_name_units)) AS INT) units,\t\n",
    "\t\tyear_of_sale\n",
    "\tFROM paper_shop_monthly_sales) sales\n",
    "-- Sum the units for column that contains the values that will be column headers\n",
    "PIVOT (SUM(units) FOR product_name IN (notebooks, pencils, crayons))\n",
    "-- Give the alias name\n",
    "AS paper_shop_pivot"
   ]
  },
  {
   "cell_type": "code",
   "execution_count": null,
   "metadata": {},
   "outputs": [],
   "source": [
    "SELECT * FROM pivot_sales\n",
    "-- Use the operator to convert columns into rows\n",
    "unpivot\n",
    "\t-- The resulting column that will contain the turned columns into rows\n",
    "\t(units FOR product_name IN (notebooks, pencils, crayons))\n",
    "-- Give the alias name\n",
    "AS unpivot_sales"
   ]
  },
  {
   "cell_type": "markdown",
   "metadata": {},
   "source": [
    "# Scala"
   ]
  },
  {
   "cell_type": "code",
   "execution_count": null,
   "metadata": {},
   "outputs": [],
   "source": [
    "#list is immuteable\n",
    "// Initialize a list with an element for each round's prize\n",
    "val prizes = List(10,15,20,25,30)\n",
    "println(prizes)\n",
    "\n",
    "// Prepend to prizes to add another round and prize\n",
    "val newPrizes = 5::prizes\n",
    "println(newPrizes)\n",
    "\n",
    "// Initialize a list with an element each round's prize\n",
    "val prizes = 10::15::20::25::30::Nil\n",
    "println(prizes)\n",
    "\n",
    "// The original NTOA and EuroTO venue lists\n",
    "val venuesNTOA = List(\"The Grand Ballroom\", \"Atlantis Casino\", \"Doug's House\")\n",
    "val venuesEuroTO = \"Five Seasons Hotel\" :: \"The Electric Unicorn\" :: Nil\n",
    "\n",
    "// Concatenate the North American and European venues\n",
    "val venuesTOWorld = venuesNTOA ::: venuesEuroTO"
   ]
  },
  {
   "cell_type": "markdown",
   "metadata": {},
   "source": [
    "# AWS"
   ]
  },
  {
   "cell_type": "code",
   "execution_count": null,
   "metadata": {},
   "outputs": [],
   "source": [
    "s3 = boto3.client('s3', region_name='us-east-1', \n",
    "                        # Set up AWS credentials \n",
    "                        aws_access_key_id=AWS_KEY_ID, \n",
    "                         aws_secret_access_key=AWS_SECRET)\n",
    "# List the buckets\n",
    "buckets = s3.list_buckets()"
   ]
  },
  {
   "cell_type": "code",
   "execution_count": null,
   "metadata": {},
   "outputs": [],
   "source": [
    "import boto3\n",
    "\n",
    "# Create boto3 client to S3\n",
    "s3 = boto3.client('s3', region_name='us-east-1', \n",
    "                         aws_access_key_id=AWS_KEY_ID, \n",
    "                         aws_secret_access_key=AWS_SECRET)\n",
    "\n",
    "# Create the buckets\n",
    "response_staging = s3.create_bucket(Bucket='gim-staging')\n",
    "response_processed = s3.create_bucket(Bucket='gim-processed')\n",
    "response_test = s3.create_bucket(Bucket='gim-test')\n",
    "\n",
    "# Print out the response\n",
    "print(response_staging)"
   ]
  },
  {
   "cell_type": "code",
   "execution_count": null,
   "metadata": {},
   "outputs": [],
   "source": [
    "# Get the list_buckets response\n",
    "response = s3.list_buckets()\n",
    "\n",
    "# Iterate over Buckets from .list_buckets() response\n",
    "for bucket in response['Buckets']:\n",
    "  \n",
    "  \t# Print the Name for each bucket\n",
    "    print(bucket['Name'])"
   ]
  },
  {
   "cell_type": "code",
   "execution_count": null,
   "metadata": {},
   "outputs": [],
   "source": [
    "# Delete the gim-test bucket\n",
    "s3.delete_bucket(Bucket='gim-test')\n",
    "\n",
    "# Get the list_buckets response\n",
    "response = s3.list_buckets()\n",
    "\n",
    "# Print each Buckets Name\n",
    "for bucket in response['Buckets']:\n",
    "    print(bucket['Name'])\n"
   ]
  },
  {
   "cell_type": "code",
   "execution_count": null,
   "metadata": {},
   "outputs": [],
   "source": [
    "# Get the list_buckets response\n",
    "response = s3.list_buckets()\n",
    "\n",
    "# Delete all the buckets with 'gim', create replacements.\n",
    "for bucket in response['Buckets']:\n",
    "  if 'gim' in bucket['Name']:\n",
    "      s3.delete_bucket(Bucket=bucket['Name'])\n",
    "    \n",
    "s3.create_bucket(Bucket='gid-staging')\n",
    "s3.create_bucket(Bucket='gid-processed')\n",
    "  \n",
    "# Print bucket listing after deletion\n",
    "response = s3.list_buckets()\n",
    "for bucket in response['Buckets']:\n",
    "    print(bucket['Name'])"
   ]
  },
  {
   "cell_type": "code",
   "execution_count": null,
   "metadata": {},
   "outputs": [],
   "source": [
    "# Upload final_report.csv to gid-staging\n",
    "s3.upload_file(Bucket='gid-staging',\n",
    "              # Set filename and key\n",
    "               Filename='final_report.csv', \n",
    "               Key='2019/final_report_01_01.csv')\n",
    "\n",
    "# Get object metadata and print it\n",
    "response = s3.head_object(Bucket='gid-staging', \n",
    "                       Key='2019/final_report_01_01.csv')\n",
    "\n",
    "# Print the size of the uploaded object\n",
    "print(response['ContentLength'])"
   ]
  },
  {
   "cell_type": "code",
   "execution_count": null,
   "metadata": {},
   "outputs": [],
   "source": [
    "# List only objects that start with '2018/final_'\n",
    "response = s3.list_objects(Bucket='gid-staging', \n",
    "                           Prefix='2018/final_')\n",
    "\n",
    "# Iterate over the objects\n",
    "if 'Contents' in response:\n",
    "  for obj in response['Contents']:\n",
    "      # Delete the object\n",
    "      s3.delete_object(Bucket='gid-staging', Key=obj['Key'])\n",
    "\n",
    "# Print the keys of remaining objects in the bucket\n",
    "response = s3.list_objects(Bucket='gid-staging')\n",
    "\n",
    "for obj in response['Contents']:\n",
    "  \tprint(obj['Key'])"
   ]
  },
  {
   "cell_type": "code",
   "execution_count": null,
   "metadata": {},
   "outputs": [],
   "source": [
    "# Upload the final_report.csv to gid-staging bucket\n",
    "s3.upload_file(\n",
    "  # Complete the filename\n",
    "  Filename='./final_report.csv', \n",
    "  # Set the key and bucket\n",
    "  Key='2019/final_report_2019_02_20.csv', \n",
    "  Bucket='gid-staging',\n",
    "  # During upload, set ACL to public-read\n",
    "  ExtraArgs = {\n",
    "    'ACL': 'public-read'})"
   ]
  },
  {
   "cell_type": "code",
   "execution_count": null,
   "metadata": {},
   "outputs": [],
   "source": [
    "# List only objects that start with '2019/final_'\n",
    "response = s3.list_objects(\n",
    "    Bucket='gid-staging', Prefix='2019/final_')\n",
    "\n",
    "# Iterate over the objects\n",
    "for obj in response['Contents']:\n",
    "\n",
    "    # Give each object ACL of public-read\n",
    "    s3.put_object_acl(Bucket='gid-staging', \n",
    "                      Key=obj['Key'], \n",
    "                      ACL='public-read')\n",
    "    \n",
    "    # Print the Public Object URL for each object\n",
    "    print(\"https://{}.s3.amazonaws.com/{}\".format( 'gid-staging', obj['Key']))"
   ]
  },
  {
   "cell_type": "code",
   "execution_count": null,
   "metadata": {},
   "outputs": [],
   "source": [
    "# Generate presigned_url for the uploaded object\n",
    "share_url = s3.generate_presigned_url(\n",
    "  # Specify allowable operations\n",
    "  ClientMethod='get_object',\n",
    "  # Set the expiration time\n",
    "  ExpiresIn=3600,\n",
    "  # Set bucket and shareable object's name\n",
    "  Params={'Bucket': 'gid-staging','Key': 'final_report.csv'}\n",
    ")\n",
    "\n",
    "# Print out the presigned URL\n",
    "print(share_url)"
   ]
  },
  {
   "cell_type": "code",
   "execution_count": null,
   "metadata": {},
   "outputs": [],
   "source": [
    "df_list =  [ ] \n",
    "\n",
    "for file in response['Contents']:\n",
    "    # For each file in response load the object from S3\n",
    "    obj = s3.get_object(Bucket='gid-requests', Key=file['Key'])\n",
    "    # Load the object's StreamingBody with pandas\n",
    "    obj_df = pd.read_csv(obj['Body'])\n",
    "    # Append the resulting DataFrame to list\n",
    "    df_list.append(obj_df)\n",
    "\n",
    "# Concat all the DataFrames with pandas\n",
    "df = pd.concat(df_list)\n",
    "\n",
    "# Preview the resulting DataFrame\n",
    "df.head()"
   ]
  },
  {
   "cell_type": "code",
   "execution_count": null,
   "metadata": {},
   "outputs": [],
   "source": [
    "# Generate an HTML table with no border and selected columns\n",
    "services_df.to_html('./services_no_border.html',\n",
    "           # Keep specific columns only\n",
    "           columns=['service_name', 'link'],\n",
    "           # Set border\n",
    "           border=0)\n",
    "\n",
    "# Generate an html table with border and all columns.\n",
    "services_df.to_html('./services_border_all_columns.html', \n",
    "           border=1)"
   ]
  },
  {
   "cell_type": "code",
   "execution_count": null,
   "metadata": {},
   "outputs": [],
   "source": [
    "# Upload the lines.html file to S3\n",
    "s3.upload_file(Filename='lines.html', \n",
    "               # Set the bucket name\n",
    "               Bucket='datacamp-public', Key='index.html',\n",
    "               # Configure uploaded file\n",
    "               ExtraArgs = {\n",
    "                 # Set proper content type\n",
    "                 'ContentType':'text/html',\n",
    "                 # Set proper ACL\n",
    "                 'ACL': 'public-read'})\n",
    "\n",
    "# Print the S3 Public Object URL for the new file.\n",
    "print(\"http://{}.s3.amazonaws.com/{}\".format('datacamp-public', 'index.html'))"
   ]
  },
  {
   "cell_type": "code",
   "execution_count": null,
   "metadata": {},
   "outputs": [],
   "source": [
    "df_list = [] \n",
    "\n",
    "# Load each object from s3\n",
    "for file in request_files:\n",
    "    s3_day_reqs = s3.get_object(Bucket='gid-requests', \n",
    "                                Key=file['Key'])\n",
    "    # Read the DataFrame into pandas, append it to the list\n",
    "    day_reqs = pd.read_csv(s3_day_reqs['Body'])\n",
    "    df_list.append(day_reqs)\n",
    "\n",
    "# Concatenate all the DataFrames in the list\n",
    "all_reqs = pd.concat(df_list)\n",
    "\n",
    "# Preview the DataFrame\n",
    "all_reqs.head()"
   ]
  },
  {
   "cell_type": "code",
   "execution_count": null,
   "metadata": {},
   "outputs": [],
   "source": [
    "# Write agg_df to a CSV and HTML file with no border\n",
    "agg_df.to_csv('./feb_final_report.csv')\n",
    "agg_df.to_html('./feb_final_report.html', border=0)\n",
    "\n",
    "# Upload the generated CSV to the gid-reports bucket\n",
    "s3.upload_file(Filename='./feb_final_report.csv', \n",
    "\tKey='2019/feb/final_report.html', Bucket='gid-reports',\n",
    "    ExtraArgs = {'ACL': 'public-read'})\n",
    "\n",
    "# Upload the generated HTML to the gid-reports bucket\n",
    "s3.upload_file(Filename='./feb_final_report.html', \n",
    "\tKey='2019/feb/final_report.html', Bucket='gid-reports',\n",
    "    ExtraArgs = {'ContentType': 'text/html', \n",
    "                 'ACL': 'public-read'})"
   ]
  },
  {
   "cell_type": "code",
   "execution_count": null,
   "metadata": {},
   "outputs": [],
   "source": [
    "# List the gid-reports bucket objects starting with 2019/\n",
    "objects_list = s3.list_objects(Bucket='gid-reports', Prefix='2019/')\n",
    "\n",
    "# Convert the response contents to DataFrame\n",
    "objects_df = pd.DataFrame(objects_list['Contents'])\n",
    "\n",
    "# Create a column \"Link\" that contains Public Object URL\n",
    "base_url = \"http://gid-reports.s3.amazonaws.com/\"\n",
    "objects_df['Link'] = base_url + objects_df['Key']\n",
    "\n",
    "# Preview the resulting DataFrame\n",
    "objects_df.head()"
   ]
  },
  {
   "cell_type": "code",
   "execution_count": null,
   "metadata": {},
   "outputs": [],
   "source": [
    "# Write objects_df to an HTML file\n",
    "objects_df.to_html('report_listing.html',\n",
    "    # Set clickable links\n",
    "    render_links=True,\n",
    "\t# Isolate the columns\n",
    "    columns=['Link', 'LastModified', 'Size'])\n",
    "\n",
    "# Overwrite index.html key by uploading the new file\n",
    "s3.upload_file(\n",
    "  Filename='./report_listing.html', Key='index.html', \n",
    "  Bucket='gid-reports',\n",
    "  ExtraArgs = {\n",
    "    'ContentType': 'text/html', \n",
    "    'ACL': 'public-read'\n",
    "  })"
   ]
  },
  {
   "cell_type": "markdown",
   "metadata": {},
   "source": [
    "## SNS"
   ]
  },
  {
   "cell_type": "code",
   "execution_count": null,
   "metadata": {},
   "outputs": [],
   "source": [
    "# Initialize boto3 client for SNS\n",
    "sns = boto3.client('sns', \n",
    "                   region_name='us-east-1', \n",
    "                   aws_access_key_id=AWS_KEY_ID, \n",
    "                   aws_secret_access_key=AWS_SECRET)\n",
    "\n",
    "# Create the city_alerts topic\n",
    "response = sns.create_topic(Name=\"city_alerts\")\n",
    "c_alerts_arn = response['TopicArn']\n",
    "\n",
    "# Re-create the city_alerts topic using a oneliner\n",
    "c_alerts_arn_1 = sns.create_topic(Name='city_alerts')['TopicArn']\n",
    "\n",
    "# Compare the two to make sure they match\n",
    "print(c_alerts_arn == c_alerts_arn_1)"
   ]
  },
  {
   "cell_type": "code",
   "execution_count": null,
   "metadata": {},
   "outputs": [],
   "source": [
    "# Create list of departments\n",
    "departments = ['trash', 'streets', 'water']\n",
    "\n",
    "for dept in departments:\n",
    "  \t# For every department, create a general topic\n",
    "    sns.create_topic(Name=\"{}_general\".format(dept))\n",
    "    \n",
    "    # For every department, create a critical topic\n",
    "    sns.create_topic(Name=\"{}_critical\".format(dept))\n",
    "\n",
    "# Print all the topics in SNS\n",
    "response = sns.list_topics()\n",
    "print(response['Topics'])"
   ]
  },
  {
   "cell_type": "code",
   "execution_count": null,
   "metadata": {},
   "outputs": [],
   "source": [
    "# Get the current list of topics\n",
    "topics = sns.list_topics()['Topics']\n",
    "\n",
    "for topic in topics:\n",
    "  # For each topic, if it is not marked critical, delete it\n",
    "  if \"critical\" not in topic['TopicArn']:\n",
    "    sns.delete_topic(TopicArn=topic['TopicArn'])\n",
    "    \n",
    "# Print the list of remaining critical topics\n",
    "print(sns.list_topics()['Topics'])"
   ]
  },
  {
   "cell_type": "code",
   "execution_count": null,
   "metadata": {},
   "outputs": [],
   "source": [
    "# Subscribe Elena's phone number to streets_critical topic\n",
    "resp_sms = sns.subscribe(\n",
    "  TopicArn = str_critical_arn, \n",
    "  Protocol='sms', Endpoint=\"+16196777733\")\n",
    "\n",
    "# Print the SubscriptionArn\n",
    "print(resp_sms['SubscriptionArn'])\n",
    "\n",
    "# Subscribe Elena's email to streets_critical topic.\n",
    "resp_email = sns.subscribe(\n",
    "  TopicArn = str_critical_arn, \n",
    "  Protocol='email', Endpoint=\"eblock@sandiegocity.gov\")\n",
    "\n",
    "# Print the SubscriptionArn\n",
    "print(resp_email['SubscriptionArn'])"
   ]
  },
  {
   "cell_type": "code",
   "execution_count": null,
   "metadata": {},
   "outputs": [],
   "source": [
    "# For each email in contacts, create subscription to street_critical\n",
    "for email in contacts['Email']:\n",
    "  sns.subscribe(TopicArn = str_critical_arn,\n",
    "                # Set channel and recipient\n",
    "                Protocol = 'email',\n",
    "                Endpoint = email)\n",
    "\n",
    "# List subscriptions for streets_critical topic, convert to DataFrame\n",
    "response = sns.list_subscriptions_by_topic(\n",
    "  TopicArn = str_critical_arn)\n",
    "subs = pd.DataFrame(response['Subscriptions'])\n",
    "\n",
    "# Preview the DataFrame\n",
    "subs.head()"
   ]
  },
  {
   "cell_type": "code",
   "execution_count": null,
   "metadata": {},
   "outputs": [],
   "source": [
    "# List subscriptions for streets_critical topic.\n",
    "response = sns.list_subscriptions_by_topic(\n",
    "  TopicArn = str_critical_arn)\n",
    "\n",
    "# For each subscription, if the protocol is SMS, unsubscribe\n",
    "for sub in response['Subscriptions']:\n",
    "  if sub['Protocol'] == 'sms':\n",
    "\t  sns.unsubscribe(SubscriptionArn=sub['SubscriptionArn'])\n",
    "\n",
    "# List subscriptions for streets_critical topic in one line\n",
    "subs = sns.list_subscriptions_by_topic(\n",
    "  TopicArn=str_critical_arn)['Subscriptions']\n",
    "\n",
    "# Print the subscriptions\n",
    "print(subs)"
   ]
  },
  {
   "cell_type": "code",
   "execution_count": null,
   "metadata": {},
   "outputs": [],
   "source": [
    "# If there are over 100 potholes, create a message\n",
    "if streets_v_count > 100:\n",
    "  # The message should contain the number of potholes.\n",
    "  message = \"There are {} potholes!\".format(streets_v_count)\n",
    "  # The email subject should also contain number of potholes\n",
    "  subject = \"Latest pothole count is {}\".format(streets_v_count)\n",
    "\n",
    "  # Publish the email to the streets_critical topic\n",
    "  sns.publish(\n",
    "    TopicArn = str_critical_arn,\n",
    "    # Set subject and message\n",
    "    Message = message,\n",
    "    Subject = subject\n",
    "  )"
   ]
  },
  {
   "cell_type": "code",
   "execution_count": null,
   "metadata": {},
   "outputs": [],
   "source": []
  },
  {
   "cell_type": "code",
   "execution_count": null,
   "metadata": {},
   "outputs": [],
   "source": [
    "# Loop through every row in contacts\n",
    "for idx, row in contacts.iterrows():\n",
    "    \n",
    "    # Publish an ad-hoc sms to the user's phone number\n",
    "    response = sns.publish(\n",
    "        # Set the phone number\n",
    "        PhoneNumber = str(row['Phone']),\n",
    "        # The message should include the user's name\n",
    "        Message = 'Hello {}'.format(row['Name'])\n",
    "    )\n",
    "   \n",
    "    print(response)"
   ]
  },
  {
   "cell_type": "code",
   "execution_count": null,
   "metadata": {},
   "outputs": [],
   "source": [
    "dept_arns = {} \n",
    "\n",
    "for dept in departments:\n",
    "  # For each deparment, create a critical topic\n",
    "  critical = sns.create_topic(Name=\"{}_critical\".format(dept))\n",
    "  # For each department, create an extreme topic\n",
    "  extreme = sns.create_topic(Name=\"{}_extreme\".format(dept))\n",
    "  # Place the created TopicARNs into a dictionary \n",
    "  dept_arns['{}_critical'.format(dept)] = critical['TopicArn']\n",
    "  dept_arns['{}_extreme'.format(dept)] = extreme['TopicArn']\n",
    "\n",
    "# Print the filled dictionary.\n",
    "print(dept_arns)"
   ]
  },
  {
   "cell_type": "code",
   "execution_count": null,
   "metadata": {},
   "outputs": [],
   "source": [
    "for index, user_row in contacts.iterrows():\n",
    "  # Get topic names for the users's dept\n",
    "  critical_tname = '{}_critical'.format(user_row['Department'])\n",
    "  extreme_tname = '{}_extreme'.format(user_row['Department'])\n",
    "  \n",
    "  # Get or create the TopicArns for a user's department.\n",
    "  critical_arn = sns.create_topic(Name=critical_tname)['TopicArn']\n",
    "  extreme_arn = sns.create_topic(Name=extreme_tname)['TopicArn']\n",
    "  \n",
    "  # Subscribe each users email to the critical Topic\n",
    "  sns.subscribe(TopicArn = critical_arn, \n",
    "                Protocol='email', Endpoint=user_row['Email'])\n",
    "  # Subscribe each users phone number for the extreme Topic\n",
    "  sns.subscribe(TopicArn = extreme_arn, \n",
    "                Protocol='sms', Endpoint=str(user_row['Phone']))"
   ]
  },
  {
   "cell_type": "code",
   "execution_count": null,
   "metadata": {},
   "outputs": [],
   "source": [
    "if vcounts['water'] > 100:\n",
    "  # If over 100 water violations, publish to water_critical\n",
    "  sns.publish(\n",
    "    TopicArn = dept_arns['water_critical'],\n",
    "    Message = \"{} water issues\".format(vcounts['water']),\n",
    "    Subject = \"Help fix water violations NOW!\")\n",
    "\n",
    "if vcounts['water'] > 300:\n",
    "  # If over 300 violations, publish to water_extreme\n",
    "  sns.publish(\n",
    "    TopicArn = dept_arns['water_extreme'],\n",
    "    Message = \"{} violations! RUN!\".format(vcounts['water']),\n",
    "    Subject = \"THIS IS BAD.  WE ARE FLOODING!\")"
   ]
  },
  {
   "cell_type": "markdown",
   "metadata": {},
   "source": [
    "## Rekognition"
   ]
  },
  {
   "cell_type": "code",
   "execution_count": null,
   "metadata": {},
   "outputs": [],
   "source": [
    "# Use Rekognition client to detect labels\n",
    "image1_response = rekog.detect_labels(\n",
    "    # Specify the image as an S3Object; Return one label\n",
    "    Image=image1, MaxLabels=1)\n",
    "\n",
    "# Print the labels\n",
    "print(image1_response['Labels'])\n",
    "\n",
    "# Use Rekognition client to detect labels\n",
    "image2_response = rekog.detect_labels(\n",
    "    # Specify the image as an S3Object; Return one label\n",
    "    Image=image2, MaxLabels=1)\n",
    "\n",
    "# Print the labels\n",
    "print(image2_response['Labels'])"
   ]
  },
  {
   "cell_type": "code",
   "execution_count": null,
   "metadata": {},
   "outputs": [],
   "source": [
    "# Create an empty counter variable\n",
    "cats_count = 0\n",
    "# Iterate over the labels in the response\n",
    "for label in response['Labels']:\n",
    "    # Find the cat label, look over the detected instances\n",
    "    if label['Name'] == 'Cat':\n",
    "        for instance in label['Instances']:\n",
    "            # Only count instances with confidence > 85\n",
    "            if (instance['Confidence'] > 85):\n",
    "                cats_count += 1\n",
    "# Print count of cats\n",
    "print(cats_count)"
   ]
  },
  {
   "cell_type": "markdown",
   "metadata": {},
   "source": [
    "## translate/detect"
   ]
  },
  {
   "cell_type": "code",
   "execution_count": null,
   "metadata": {},
   "outputs": [],
   "source": [
    "# For each dataframe row\n",
    "for index, row in dumping_df.iterrows():\n",
    "    # Get the public description field\n",
    "    description =dumping_df.loc[index, 'public_description']\n",
    "    if description != '':\n",
    "        # Detect language in the field content\n",
    "        resp = comprehend.detect_dominant_language(Text=description)\n",
    "        # Assign the top choice language to the lang column.\n",
    "        dumping_df.loc[index, 'lang'] = resp['Languages'][0]['LanguageCode']\n",
    "        \n",
    "# Count the total number of spanish posts\n",
    "spanish_post_ct = len(dumping_df[dumping_df.lang == 'es'])\n",
    "# Print the result\n",
    "print(\"{} posts in Spanish\".format(spanish_post_ct))"
   ]
  },
  {
   "cell_type": "code",
   "execution_count": null,
   "metadata": {},
   "outputs": [],
   "source": [
    "for index, row in dumping_df.iterrows():\n",
    "  \t# Get the public_description into a variable\n",
    "    description = dumping_df.loc[index, 'public_description']\n",
    "    if description != '':\n",
    "      \t# Translate the public description\n",
    "        resp = translate.translate_text(\n",
    "            Text=description, \n",
    "            SourceLanguageCode='auto', TargetLanguageCode='en')\n",
    "        # Store original language in original_lang column\n",
    "        dumping_df.loc[index, 'original_lang'] = resp['SourceLanguageCode']\n",
    "        # Store the translation in the translated_desc column\n",
    "        dumping_df.loc[index, 'translated_desc'] = resp['TranslatedText']\n",
    "# Preview the resulting DataFrame\n",
    "dumping_df = dumping_df[['service_request_id', 'original_lang', 'translated_desc']]\n",
    "dumping_df.head()"
   ]
  },
  {
   "cell_type": "code",
   "execution_count": null,
   "metadata": {},
   "outputs": [],
   "source": [
    "for index, row in dumping_df.iterrows():\n",
    "  \t# Get the translated_desc into a variable\n",
    "    description = dumping_df.loc[index, 'public_description']\n",
    "    if description != '':\n",
    "      \t# Get the detect_sentiment response\n",
    "        response = comprehend.detect_sentiment(\n",
    "          Text=description, \n",
    "          LanguageCode='en')\n",
    "        # Get the sentiment key value into sentiment column\n",
    "        dumping_df.loc[index, 'sentiment'] = response['Sentiment']\n",
    "# Preview the dataframe\n",
    "dumping_df.head()"
   ]
  },
  {
   "cell_type": "code",
   "execution_count": null,
   "metadata": {},
   "outputs": [],
   "source": [
    "for index, row in scooter_requests.iterrows():\n",
    "  \t# For every DataFrame row\n",
    "    desc = scooter_requests.loc[index, 'public_description']\n",
    "    if desc != '':\n",
    "      \t# Detect the dominant language\n",
    "        resp = comprehend.detect_dominant_language(Text=desc)\n",
    "        lang_code = resp['Languages'][0]['LanguageCode']\n",
    "        scooter_requests.loc[index, 'lang'] = lang_code\n",
    "        # Use the detected language to determine sentiment\n",
    "        scooter_requests.loc[index, 'sentiment'] = comprehend.detect_sentiment(\n",
    "          Text=desc, \n",
    "          LanguageCode=lang_code)['Sentiment']\n",
    "# Perform a count of sentiment by group.\n",
    "counts = scooter_requests.groupby(['sentiment', 'lang']).count()\n",
    "counts.head()"
   ]
  },
  {
   "cell_type": "code",
   "execution_count": null,
   "metadata": {},
   "outputs": [],
   "source": []
  },
  {
   "cell_type": "code",
   "execution_count": null,
   "metadata": {},
   "outputs": [],
   "source": [
    "# Get topic ARN for scooter notifications\n",
    "topic_arn = sns.create_topic(Name='scooter_notifications')['TopicArn']\n",
    "\n",
    "for index, row in scooter_requests.iterrows():\n",
    "    # Check if notification should be sent\n",
    "    if (row['sentiment'] == 'NEGATIVE') & (row['img_scooter'] == 1):\n",
    "        # Construct a message to publish to the scooter team.\n",
    "        message = \"Please remove scooter at {}, {}. Description: {}\".format(\n",
    "            row['long'], row['lat'], row['public_description'])\n",
    "\n",
    "        # Publish the message to the topic!\n",
    "        sns.publish(TopicArn = topic_arn,\n",
    "                    Message = message, \n",
    "                    Subject = \"Scooter Alert\")"
   ]
  },
  {
   "cell_type": "markdown",
   "metadata": {},
   "source": [
    "# Pyspark"
   ]
  },
  {
   "cell_type": "code",
   "execution_count": null,
   "metadata": {},
   "outputs": [],
   "source": [
    "# Print the version of SparkContext\n",
    "print(\"The version of Spark Context in the PySpark shell is\", sc.version)\n",
    "\n",
    "# Print the Python version of SparkContext\n",
    "print(\"The Python version of Spark Context in the PySpark shell is\", sc.pythonVer)\n",
    "\n",
    "# Print the master of SparkContext\n",
    "print(\"The master of Spark Context in the PySpark shell is\", sc.master)"
   ]
  },
  {
   "cell_type": "code",
   "execution_count": null,
   "metadata": {},
   "outputs": [],
   "source": [
    "# Create a baseRDD from the file path\n",
    "baseRDD = sc.textFile(file_path)\n",
    "\n",
    "# Split the lines of baseRDD into words\n",
    "splitRDD = baseRDD.flatMap(lambda x: x.split())\n",
    "\n",
    "# Count the total number of words\n",
    "print(\"Total number of words in splitRDD:\", splitRDD.count())"
   ]
  },
  {
   "cell_type": "code",
   "execution_count": null,
   "metadata": {},
   "outputs": [],
   "source": [
    "# Convert the words in lower case and remove stop words from stop_words\n",
    "splitRDD_no_stop = splitRDD.filter(lambda x: x.lower() not in stop_words)\n",
    "\n",
    "# Create a tuple of the word and 1 \n",
    "splitRDD_no_stop_words = splitRDD_no_stop.map(lambda w: (w, 1))\n",
    "\n",
    "# Count of the number of occurences of each word\n",
    "resultRDD = splitRDD_no_stop_words.reduceByKey(lambda x, y: x + y)"
   ]
  },
  {
   "cell_type": "code",
   "execution_count": null,
   "metadata": {},
   "outputs": [],
   "source": [
    "# Display the first 10 words and their frequencies\n",
    "for word in resultRDD.take(10):\n",
    "\tprint(word)\n",
    "\n",
    "# Swap the keys and values \n",
    "resultRDD_swap = resultRDD.map(lambda x: (x[1], x[0]))\n",
    "\n",
    "# Sort the keys in descending order\n",
    "resultRDD_swap_sort = resultRDD_swap.sortByKey(ascending=False)\n",
    "\n",
    "# Show the top 10 most frequent words and their frequencies\n",
    "for word in resultRDD_swap_sort.take(10):\n",
    "\tprint(\"{} has {} counts\". format(word[1], word[0]))"
   ]
  },
  {
   "cell_type": "code",
   "execution_count": null,
   "metadata": {},
   "outputs": [],
   "source": [
    "# Create a list of tuples\n",
    "sample_list = [('Mona',20), ('Jennifer',34), ('John',20), ('Jim',26)]\n",
    "\n",
    "# Create a RDD from the list\n",
    "rdd = sc.parallelize(sample_list)\n",
    "\n",
    "# Create a PySpark DataFrame\n",
    "names_df = spark.createDataFrame(rdd, schema=['Name', 'Age'])\n",
    "\n",
    "# Check the type of names_df\n",
    "print(\"The type of names_df is\", type(names_df))"
   ]
  },
  {
   "cell_type": "code",
   "execution_count": null,
   "metadata": {},
   "outputs": [],
   "source": [
    "# Print the first 10 observations \n",
    "people_df.show(10)\n",
    "\n",
    "# Count the number of rows \n",
    "print(\"There are {} rows in the people_df DataFrame.\".format(people_df.count()))\n",
    "\n",
    "# Count the number of columns and their names\n",
    "print(\"There are {} columns in the people_df DataFrame and their names are {}\".format(len(people_df.columns), people_df.columns))"
   ]
  },
  {
   "cell_type": "code",
   "execution_count": null,
   "metadata": {},
   "outputs": [],
   "source": [
    "# Select name, sex and date of birth columns\n",
    "people_df_sub = people_df.select('name', 'sex', 'date of birth')\n",
    "\n",
    "# Print the first 10 observations from people_df_sub\n",
    "people_df_sub.show(10)\n",
    "\n",
    "# Remove duplicate entries from people_df_sub\n",
    "people_df_sub_nodup = people_df_sub.dropDuplicates()\n",
    "\n",
    "# Count the number of rows\n",
    "print(\"There were {} rows before removing duplicates, and {} rows after removing duplicates\".format(people_df_sub.count(), people_df_sub_nodup.count()))"
   ]
  },
  {
   "cell_type": "code",
   "execution_count": null,
   "metadata": {},
   "outputs": [],
   "source": [
    "# Filter people_df to select females \n",
    "people_df_female = people_df.filter(people_df.sex == \"female\")\n",
    "\n",
    "# Filter people_df to select males\n",
    "people_df_male = people_df.filter(people_df.sex == \"male\")\n",
    "\n",
    "# Count the number of rows \n",
    "print(\"There are {} rows in the people_df_female DataFrame and {} rows in the people_df_male DataFrame\".format(people_df_female.count(), people_df_male.count()))"
   ]
  },
  {
   "cell_type": "code",
   "execution_count": null,
   "metadata": {},
   "outputs": [],
   "source": [
    "# Filter the people table to select female sex \n",
    "people_female_df = spark.sql('SELECT * FROM people WHERE sex==\"female\"')\n",
    "\n",
    "# Filter the people table DataFrame to select male sex\n",
    "people_male_df = spark.sql('SELECT * from people where sex==\"male\"')\n",
    "\n",
    "# Count the number of rows in both DataFrames\n",
    "print(\"There are {} rows in the people_female_df and {} rows in the people_male_df DataFrames\".format(people_female_df.count(), people_male_df.count()))"
   ]
  },
  {
   "cell_type": "markdown",
   "metadata": {},
   "source": [
    "# Error handing in SQL Server"
   ]
  },
  {
   "cell_type": "code",
   "execution_count": null,
   "metadata": {},
   "outputs": [],
   "source": [
    "-- Set up the TRY block\n",
    "BEGIN try\n",
    "\t-- Add the constraint\n",
    "\tALTER TABLE products\n",
    "\t\tADD CONSTRAINT CHK_Stock CHECK (stock >= 0);\n",
    "end try\n",
    "-- Set up the CATCH block\n",
    "begin catch\n",
    "\tSELECT 'An error occurred!';\n",
    "END catch"
   ]
  },
  {
   "cell_type": "code",
   "execution_count": null,
   "metadata": {},
   "outputs": [],
   "source": [
    "-- Set up the first TRY block\n",
    "begin try\n",
    "\tINSERT INTO buyers (first_name, last_name, email, phone)\n",
    "\t\tVALUES ('Peter', 'Thompson', 'peterthomson@mail.com', '555000100');\n",
    "end try\n",
    "-- Set up the first CATCH block\n",
    "begin catch\n",
    "\tSELECT 'An error occurred inserting the buyer! You are in the first CATCH block';\n",
    "    -- Set up the nested TRY block\n",
    "    begin try\n",
    "    \tINSERT INTO errors \n",
    "        \tVALUES ('Error inserting a buyer');\n",
    "        SELECT 'Error inserted correctly!';\n",
    "\t end try\n",
    "    -- Set up the nested CATCH block\n",
    "    begin catch\n",
    "    \tSELECT 'An error occurred inserting the error! You are in the nested CATCH block';\n",
    "    end catch \n",
    "end catch"
   ]
  },
  {
   "cell_type": "code",
   "execution_count": null,
   "metadata": {},
   "outputs": [],
   "source": [
    "-- Set up the TRY block\n",
    "begin try  \t\n",
    "\tSELECT 'Total: ' + SUM(price * quantity) AS total\n",
    "\tFROM orders  \n",
    "end try\n",
    "-- Set up the CATCH block\n",
    "begin catch  \n",
    "\t-- Show error information.\n",
    "\tSELECT  ERROR_NUMBER() AS number,  \n",
    "        \tERROR_SEVERITY() AS severity_level,  \n",
    "        \tERROR_STATE() AS state,\n",
    "        \tERROR_LINE() AS line,  \n",
    "        \tERROR_MESSAGE() AS message; \t\n",
    "end catch "
   ]
  },
  {
   "cell_type": "code",
   "execution_count": null,
   "metadata": {},
   "outputs": [],
   "source": [
    "BEGIN TRY\n",
    "    INSERT INTO products (product_name, stock, price) \n",
    "    VALUES\t('Trek Powerfly 5 - 2018', 2, 3499.99),   \t\t\n",
    "    \t\t('New Power K- 2018', 3, 1999.99)\t\t\n",
    "END TRY\n",
    "-- Set up the outer CATCH block\n",
    "begin catch\n",
    "\tSELECT 'An error occurred inserting the product!';\n",
    "    -- Set up the inner TRY block\n",
    "    begin try\n",
    "    \t-- Insert the error\n",
    "    \tINSERT INTO errors \n",
    "        \tVALUES ('Error inserting a product');\n",
    "    end try    \n",
    "    -- Set up the inner CATCH block\n",
    "    begin catch\n",
    "    \t-- Show number and message error\n",
    "    \tSELECT \n",
    "        \tERROR_LINE() AS line,\t   \n",
    "\t\t\tERROR_MESSAGE() AS message; \n",
    "    end catch    \n",
    "end catch"
   ]
  },
  {
   "cell_type": "markdown",
   "metadata": {},
   "source": [
    "## raiserror"
   ]
  },
  {
   "cell_type": "code",
   "execution_count": null,
   "metadata": {},
   "outputs": [],
   "source": [
    "BEGIN TRY\n",
    "    DECLARE @product_id INT = 5;\n",
    "    IF NOT EXISTS (SELECT * FROM products WHERE product_id = @product_id)\n",
    "        RAISERROR('No product with id %d.', 11, 1, @product_id);\n",
    "    ELSE \n",
    "        SELECT * FROM products WHERE product_id = @product_id;\n",
    "END TRY\n",
    "-- Catch the error\n",
    "begin catch\n",
    "\t-- Select the error message\n",
    "\tSELECT ERROR_MESSAGE();\n",
    "end catch    "
   ]
  },
  {
   "cell_type": "code",
   "execution_count": null,
   "metadata": {},
   "outputs": [],
   "source": [
    "CREATE PROCEDURE insert_product\n",
    "  @product_name VARCHAR(50),\n",
    "  @stock INT,\n",
    "  @price DECIMAL\n",
    "\n",
    "AS\n",
    "\n",
    "BEGIN TRY\n",
    "\tINSERT INTO products (product_name, stock, price)\n",
    "\t\tVALUES (@product_name, @stock, @price);\n",
    "END TRY\n",
    "-- Set up the CATCH block\n",
    "begin catch\n",
    "\t-- Insert the error and end the statement with a semicolon\n",
    "    insert into errors VALUES ('Error inserting a product');\n",
    "    -- Re-throw the error\n",
    "\tthrow; \n",
    "end catch"
   ]
  },
  {
   "cell_type": "code",
   "execution_count": null,
   "metadata": {},
   "outputs": [],
   "source": [
    "BEGIN TRY\n",
    "\t-- Execute the stored procedure\n",
    "\tEXEC insert_product\n",
    "    \t-- Set the values for the parameters\n",
    "    \t@product_name = 'Super bike',\n",
    "        @stock = 3,\n",
    "        @price = 499.99;\n",
    "END TRY\n",
    "-- Set up the CATCH block\n",
    "begin catch\n",
    "\t-- Select the error message\n",
    "\tSELECT ERROR_MESSAGE();\n",
    "end catch"
   ]
  },
  {
   "cell_type": "code",
   "execution_count": null,
   "metadata": {},
   "outputs": [],
   "source": [
    "-- Set @staff_id to 4\n",
    "DECLARE @staff_id INT = 4;\n",
    "\n",
    "IF NOT EXISTS (SELECT * FROM staff WHERE staff_id = @staff_id)\n",
    "   \t-- Invoke the THROW statement with parameters\n",
    "\tthrow 50001, 'No staff member with such id', 1;\n",
    "ELSE\n",
    "   \tSELECT * FROM staff WHERE staff_id = @staff_id"
   ]
  },
  {
   "cell_type": "code",
   "execution_count": null,
   "metadata": {},
   "outputs": [],
   "source": [
    "-- Set @first_name to 'Pedro'\n",
    "DECLARE @first_name NVARCHAR(20) = 'Pedro';\n",
    "-- Concat the message\n",
    "DECLARE @my_message NVARCHAR(500) =\n",
    "\tConcat('There is no staff member with ', @first_name, ' as the first name.');\n",
    "\n",
    "IF NOT EXISTS (SELECT * FROM staff WHERE first_name = @first_name)\n",
    "\t-- Throw the error\n",
    "\tthrow 50000, @my_message, 1;"
   ]
  },
  {
   "cell_type": "code",
   "execution_count": null,
   "metadata": {},
   "outputs": [],
   "source": [
    "DECLARE @product_name AS NVARCHAR(50) = 'Trek CrossRip+ - 2018';\n",
    "DECLARE @number_of_sold_bikes AS INT = 10;\n",
    "DECLARE @current_stock INT;\n",
    "-- Select the current stock\n",
    "SELECT @current_stock = stock FROM products WHERE product_name = @product_name;\n",
    "DECLARE @my_message NVARCHAR(500) =\n",
    "\t-- Customize the message\n",
    "\tFORMATMESSAGE('There are not enough %s bikes. You only have %d in stock.', @product_name, @current_stock);\n",
    "\n",
    "IF (@current_stock - @number_of_sold_bikes < 0)\n",
    "\t-- Throw the error\n",
    "\tTHROW 50000, @my_message, 1;"
   ]
  },
  {
   "cell_type": "code",
   "execution_count": null,
   "metadata": {},
   "outputs": [],
   "source": [
    "-- Pass the variables to the stored procedure\n",
    "EXEC sp_addmessage @msgnum = 50002, @severity = 16, @msgtext = 'There are not enough %s bikes. You only have %d in stock.', @lang = N'us_english';\n",
    "\n",
    "DECLARE @product_name AS NVARCHAR(50) = 'Trek CrossRip+ - 2018';\n",
    "DECLARE @number_of_sold_bikes AS INT = 10;\n",
    "DECLARE @current_stock INT;\n",
    "SELECT @current_stock = stock FROM products WHERE product_name = @product_name;\n",
    "DECLARE @my_message NVARCHAR(500) =\n",
    "\t-- Prepare the error message\n",
    "\tFORMATMESSAGE(50002, @product_name, @current_stock);\n",
    "\n",
    "IF (@current_stock - @number_of_sold_bikes < 0)\n",
    "\t-- Throw the error\n",
    "\tTHROW 50000, @my_message, 1;"
   ]
  },
  {
   "cell_type": "markdown",
   "metadata": {},
   "source": [
    "## Transaction"
   ]
  },
  {
   "cell_type": "code",
   "execution_count": null,
   "metadata": {},
   "outputs": [],
   "source": [
    "BEGIN TRY  \n",
    "\tBEGIN TRAN;\n",
    "\t\tUPDATE accounts SET current_balance = current_balance - 100 WHERE account_id = 1;\n",
    "\t\tINSERT INTO transactions VALUES (1, -100, GETDATE());\n",
    "        \n",
    "\t\tUPDATE accounts SET current_balance = current_balance + 100 WHERE account_id = 5;\n",
    "\t\tINSERT INTO transactions VALUES (5, 100, GETDATE());\n",
    "\tCOMMIT TRAN;\n",
    "END TRY\n",
    "BEGIN CATCH  \n",
    "\trollback TRAN;\n",
    "END CATCH"
   ]
  },
  {
   "cell_type": "code",
   "execution_count": null,
   "metadata": {},
   "outputs": [],
   "source": [
    "BEGIN TRY  \n",
    "\t-- Begin the transaction\n",
    "\tBEGIN TRAN;\n",
    "\t\tUPDATE accounts SET current_balance = current_balance - 100 WHERE account_id = 1;\n",
    "\t\tINSERT INTO transactions VALUES (1, -100, GETDATE());\n",
    "        \n",
    "\t\tUPDATE accounts SET current_balance = current_balance + 100 WHERE account_id = 5;\n",
    "        -- Correct it\n",
    "\t\tINSERT INTO transactions VALUES (500, 100, GETDATE());\n",
    "    -- Commit the transaction\n",
    "\tCommit TRAN;    \n",
    "END TRY\n",
    "BEGIN CATCH  \n",
    "\tSELECT 'Rolling back the transaction';\n",
    "    -- Rollback the transaction\n",
    "\tRollback TRAN;\n",
    "END CATCH"
   ]
  },
  {
   "cell_type": "code",
   "execution_count": null,
   "metadata": {},
   "outputs": [],
   "source": [
    "-- Begin the transaction\n",
    "Begin Tran; \n",
    "\tUPDATE accounts set current_balance = current_balance + 100\n",
    "\t\tWHERE current_balance < 5000;\n",
    "\t-- Check number of affected rows\n",
    "\tIF @@ROWCOUNT > 200 \n",
    "\t\tBEGIN \n",
    "        \t-- Rollback the transaction\n",
    "\t\t\tRollback tran; \n",
    "\t\t\tSELECT 'More accounts than expected. Rolling back'; \n",
    "\t\tEND\n",
    "\tELSE\n",
    "\t\tBEGIN \n",
    "        \t-- Commit the transaction\n",
    "\t\t\tcommit tran; \n",
    "\t\t\tSELECT 'Updates commited'; \n",
    "\t\tEND"
   ]
  },
  {
   "cell_type": "code",
   "execution_count": null,
   "metadata": {},
   "outputs": [],
   "source": [
    "BEGIN TRY\n",
    "\t-- Begin the transaction\n",
    "\tBegin tran;\n",
    "    \t-- Correct the mistake\n",
    "\t\tUPDATE accounts SET current_balance = current_balance + 200\n",
    "\t\t\tWHERE account_id = 10;\n",
    "    \t-- Check if there is a transaction\n",
    "\t\tIF @@trancount > 0     \n",
    "    \t\t-- Commit the transaction\n",
    "\t\t\tcommit tran;\n",
    "     \n",
    "\tSELECT * FROM accounts\n",
    "    \tWHERE account_id = 10;      \n",
    "END TRY\n",
    "BEGIN CATCH  \n",
    "    SELECT 'Rolling back the transaction'; \n",
    "    -- Check if there is a transaction\n",
    "    IF @@trancount > 0   \t\n",
    "    \t-- Rollback the transaction\n",
    "        Rollback tran;\n",
    "END CATCH"
   ]
  },
  {
   "cell_type": "code",
   "execution_count": null,
   "metadata": {},
   "outputs": [],
   "source": [
    "BEGIN TRAN;\n",
    "\t-- Mark savepoint1\n",
    "\tSAVE TRAN savepoint1;\n",
    "\tINSERT INTO customers VALUES ('Mark', 'Davis', 'markdavis@mail.com', '555909090');\n",
    "\n",
    "\t-- Mark savepoint2\n",
    "    SAVE TRAN savepoint2;\n",
    "\tINSERT INTO customers VALUES ('Zack', 'Roberts', 'zackroberts@mail.com', '555919191');\n",
    "\n",
    "\t-- Rollback savepoint2\n",
    "\tROLLBACK TRAN savepoint2;\n",
    "    -- Rollback savepoint1\n",
    "\tROLLBACK TRAN savepoint1;\n",
    "\n",
    "\t-- Mark savepoint3\n",
    "\tSAVE TRAN savepoint3;\n",
    "\tINSERT INTO customers VALUES ('Jeremy', 'Johnsson', 'jeremyjohnsson@mail.com', '555929292');\n",
    "-- Commit the transaction\n",
    "COMMIT TRAN;"
   ]
  },
  {
   "cell_type": "code",
   "execution_count": null,
   "metadata": {},
   "outputs": [],
   "source": [
    "-- Use the appropriate setting\n",
    "SET XACT_ABORT on;\n",
    "BEGIN TRY\n",
    "\tBEGIN TRAN;\n",
    "\t\tINSERT INTO customers VALUES ('Mark', 'Davis', 'markdavis@mail.com', '555909090');\n",
    "\t\tINSERT INTO customers VALUES ('Dylan', 'Smith', 'dylansmith@mail.com', '555888999');\n",
    "\tCOMMIT TRAN;\n",
    "END TRY\n",
    "BEGIN CATCH\n",
    "\t-- Check if there is an open transaction\n",
    "\tIF XACT_state() <> 0\n",
    "    \t-- Rollback the transaction\n",
    "\t\trollback tran;\n",
    "    -- Select the message of the error\n",
    "    SELECT Error_message() AS Error_message;\n",
    "END CATCH"
   ]
  },
  {
   "cell_type": "markdown",
   "metadata": {},
   "source": [
    "## transaction isolation level"
   ]
  },
  {
   "cell_type": "code",
   "execution_count": null,
   "metadata": {},
   "outputs": [],
   "source": [
    "-- Set the appropriate isolation level\n",
    "set TRANSACTION isolation LEVEL READ UNCOMMITTED\n",
    "\n",
    "\t-- Select first_name, last_name, email and phone\n",
    "\tSELECT\n",
    "    \tfirst_name, \n",
    "        last_name, \n",
    "        email,\n",
    "        phone\n",
    "    FROM customers;"
   ]
  },
  {
   "cell_type": "code",
   "execution_count": null,
   "metadata": {},
   "outputs": [],
   "source": [
    "-- Set the appropriate isolation level\n",
    "SET TRANSACTION ISOLATION LEVEL READ COMMITTED \n",
    "\n",
    "-- Count the accounts\n",
    "SELECT Count(*) AS number_of_accounts\n",
    "FROM accounts\n",
    "WHERE current_balance >= 50000;"
   ]
  },
  {
   "cell_type": "code",
   "execution_count": null,
   "metadata": {},
   "outputs": [],
   "source": [
    "-- Set the appropriate isolation level\n",
    " SET TRANSACTION ISOLATION LEVEL repeatable READ \n",
    "\n",
    "-- Begin a transaction\n",
    "begin tran;\n",
    "\n",
    "SELECT * FROM customers;\n",
    "\n",
    "-- some mathematical operations, don't care about them...\n",
    "\n",
    "SELECT * FROM customers;\n",
    "\n",
    "-- Commit the transaction\n",
    "commit tran;"
   ]
  },
  {
   "cell_type": "code",
   "execution_count": null,
   "metadata": {},
   "outputs": [],
   "source": [
    "-- Set the appropriate isolation level\n",
    "SET TRANSACTION ISOLATION LEVEL SERIALIZABLE\n",
    "\n",
    "\n",
    "-- Begin a transaction\n",
    "begin TRANSACTION\n",
    "\n",
    "SELECT * FROM customers;\n",
    "\n",
    "-- After some mathematical operations, we selected information from the customers table.\n",
    "SELECT * FROM customers;\n",
    "\n",
    "-- Commit the transaction\n",
    "Commit TRANSACTION"
   ]
  },
  {
   "cell_type": "code",
   "execution_count": null,
   "metadata": {},
   "outputs": [],
   "source": [
    "-- Set the appropriate isolation level\n",
    "SET TRANSACTION ISOLATION LEVEL SERIALIZABLE\n",
    "\n",
    "-- Begin a transaction\n",
    "begin TRANSACTION\n",
    "\n",
    "-- Select customer_id between 1 and 10\n",
    "SELECT * \n",
    "FROM customers\n",
    "where customer_id between 1 AND 10;\n",
    "\n",
    "-- After completing some mathematical operation, select customer_id between 1 and 10\n",
    "SELECT * \n",
    "FROM customers\n",
    "where customer_id between 1 AND 10;\n",
    "\n",
    "-- Commit the transaction\n",
    "Commit TRANSACTION"
   ]
  },
  {
   "cell_type": "code",
   "execution_count": null,
   "metadata": {},
   "outputs": [],
   "source": [
    "SELECT *\n",
    "\t-- Avoid being blocked\n",
    "\tFROM transactions with (noLOCK)\n",
    "WHERE account_id = 1"
   ]
  },
  {
   "cell_type": "code",
   "execution_count": null,
   "metadata": {},
   "outputs": [],
   "source": []
  }
 ],
 "metadata": {
  "kernelspec": {
   "display_name": "Python 3",
   "language": "python",
   "name": "python3"
  },
  "language_info": {
   "codemirror_mode": {
    "name": "ipython",
    "version": 3
   },
   "file_extension": ".py",
   "mimetype": "text/x-python",
   "name": "python",
   "nbconvert_exporter": "python",
   "pygments_lexer": "ipython3",
   "version": "3.6.4"
  }
 },
 "nbformat": 4,
 "nbformat_minor": 2
}
