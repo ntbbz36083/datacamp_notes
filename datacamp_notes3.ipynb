{
 "cells": [
  {
   "cell_type": "markdown",
   "metadata": {},
   "source": [
    "## SQL cleaning"
   ]
  },
  {
   "cell_type": "code",
   "execution_count": null,
   "metadata": {},
   "outputs": [],
   "source": [
    "#Use concat, replicate, len\n",
    "SELECT \n",
    "\t-- Concat the strings\n",
    "\tconcat(\n",
    "\t\tcarrier_code, \n",
    "\t\t' - ', \n",
    "      \t-- Replicate zeros\n",
    "\t\tReplicate('0', 9 - len(registration_code)), \n",
    "\t\tregistration_code, \n",
    "\t\t', ', \n",
    "\t\tairport_code)\n",
    "\tAS registration_code\n",
    "FROM flight_statistics\n",
    "-- Filter registers with more than 100 delays\n",
    "WHERE delayed > 100"
   ]
  },
  {
   "cell_type": "code",
   "execution_count": null,
   "metadata": {},
   "outputs": [],
   "source": [
    "#use concat, format\n",
    "SELECT \n",
    "    -- Concat the strings\n",
    "\tconcat(\n",
    "\t\tcarrier_code, \n",
    "\t\t' - ', \n",
    "        -- Format the code\n",
    "\t\tformat(cast(registration_code AS INT), '0000000'),\n",
    "\t\t', ', \n",
    "\t\tairport_code\n",
    "\t) AS registration_code\n",
    "FROM flight_statistics\n",
    "-- Filter registers with more than 100 delays\n",
    "WHERE delayed > 100"
   ]
  },
  {
   "cell_type": "code",
   "execution_count": null,
   "metadata": {},
   "outputs": [],
   "source": [
    "#soundex() difference()\n",
    "SELECT \n",
    "    -- First name and surname of the statisticians\n",
    "\tDISTINCT S1.statistician_name, S1.statistician_surname\n",
    "-- Join flight_statistics with itself\n",
    "FROM flight_statistics S1 INNER JOIN flight_statistics S2 \n",
    "\t-- The SOUNDEX result of the first name and surname have to be the same\n",
    "\tON SOUNDEX(S1.statistician_name) = SOUNDEX(S2.statistician_name) \n",
    "\tAND SOUNDEX(S1.statistician_surname) = SOUNDEX(S2.statistician_surname) \n",
    "-- The texts of the first name or the texts of the surname have to be different\n",
    "WHERE S1.statistician_name <> S2.statistician_name\n",
    "\tOR S1.statistician_surname <> S2.statistician_surname"
   ]
  },
  {
   "cell_type": "code",
   "execution_count": null,
   "metadata": {},
   "outputs": [],
   "source": [
    "SELECT \n",
    "    -- First name and surnames of the statisticians\n",
    "\tDISTINCT S1.statistician_name, S1.statistician_surname\n",
    "-- Join flight_statistics with itself\n",
    "FROM flight_statistics S1 INNER JOIN flight_statistics S2 \n",
    "\t-- The DIFFERENCE of the first name and surname has to be equals to 4\n",
    "\tON difference(S1.statistician_name, S2.statistician_name) = 4\n",
    "\tAND difference(S1.statistician_surname, S2.statistician_surname) = 4\n",
    "-- The texts of the first name or the texts of the surname have to be different\n",
    "WHERE S1.statistician_name <> S2.statistician_name\n",
    "\tOR S1.statistician_surname <> S2.statistician_surname"
   ]
  },
  {
   "cell_type": "code",
   "execution_count": null,
   "metadata": {},
   "outputs": [],
   "source": [
    "#COALESCE, if first 2 are null, then display 3rd value\n",
    "SELECT\n",
    "airport_code,\n",
    "airport_name,\n",
    "-- Replace the missing values\n",
    "COALESCE(airport_city, airport_state, 'Unknown') AS location\n",
    "FROM airports"
   ]
  },
  {
   "cell_type": "code",
   "execution_count": null,
   "metadata": {},
   "outputs": [],
   "source": [
    "#row_number()\n",
    "WITH cte AS (\n",
    "    SELECT *, \n",
    "        ROW_NUMBER() OVER (\n",
    "            PARTITION BY \n",
    "                airport_code, \n",
    "                carrier_code, \n",
    "                registration_date\n",
    "\t\t\tORDER BY \n",
    "                airport_code, \n",
    "                carrier_code, \n",
    "                registration_date\n",
    "        ) row_num\n",
    "    FROM flight_statistics\n",
    ")\n",
    "SELECT * FROM cte\n",
    "-- Exclude duplicates\n",
    "WHERE row_num =1;"
   ]
  },
  {
   "cell_type": "code",
   "execution_count": null,
   "metadata": {},
   "outputs": [],
   "source": [
    "#Use convert to convert date\n",
    "SELECT \n",
    "    airport_code,\n",
    "    carrier_code,\n",
    "    canceled, \n",
    "    airport_code, \n",
    "    -- Convert the registration_date to a DATE and print it in mm/dd/yyyy format\n",
    "    convert(VARCHAR(10), cast(registration_date AS DATE), 101) AS registration_date\n",
    "FROM flight_statistics \n",
    "-- Convert the registration_date to mm/dd/yyyy format\n",
    "WHERE convert(VARCHAR(10), cast(registration_date AS DATE), 101) \n",
    "\t-- Filter the first semester of 2014 in mm/dd/yyyy format \n",
    "\tBETWEEN '01/01/2014' AND '06/30/2014'"
   ]
  },
  {
   "cell_type": "code",
   "execution_count": null,
   "metadata": {},
   "outputs": [],
   "source": [
    "#use format to convert date\n",
    "SELECT \n",
    "\tpilot_code,\n",
    "\tpilot_name,\n",
    "\tpilot_surname,\n",
    "\tcarrier_code,\n",
    "    -- Convert the entry_date to a DATE and print it in dd/MM/yyyy format\n",
    "\tformat(cast(entry_date AS DATE), 'dd/MM/yyyy') AS entry_date\n",
    "from pilots"
   ]
  },
  {
   "cell_type": "code",
   "execution_count": null,
   "metadata": {},
   "outputs": [],
   "source": [
    "# substring and chaindex\n",
    "SELECT \n",
    "\tclient_name,\n",
    "\tclient_surname,\n",
    "    -- Extract the name of the city\n",
    "\tSUBSTRING(city_state, 1, CHARINDEX(', ', city_state) - 1) AS city,\n",
    "    -- Extract the name of the state\n",
    "    SUBSTRING(city_state, CHARINDEX(', ', city_state) + 1, LEN(city_state)) AS state\n",
    "FROM clients_split"
   ]
  },
  {
   "cell_type": "code",
   "execution_count": null,
   "metadata": {},
   "outputs": [],
   "source": [
    "#pivot and unpivot\n",
    "#pivot turns rows to columns\n",
    "#unpivot turns columns to rows\n",
    "SELECT\n",
    "\tyear_of_sale,\n",
    "    -- Select the pivoted columns\n",
    "\tnotebooks, \n",
    "\tpencils, \n",
    "\tcrayons\n",
    "FROM\n",
    "   (SELECT \n",
    "\t\tSUBSTRING(product_name_units, 1, charindex('-', product_name_units)-1) product_name, \n",
    "\t\tCAST(SUBSTRING(product_name_units, charindex('-', product_name_units)+1, len(product_name_units)) AS INT) units,\t\n",
    "\t\tyear_of_sale\n",
    "\tFROM paper_shop_monthly_sales) sales\n",
    "-- Sum the units for column that contains the values that will be column headers\n",
    "PIVOT (SUM(units) FOR product_name IN (notebooks, pencils, crayons))\n",
    "-- Give the alias name\n",
    "AS paper_shop_pivot"
   ]
  },
  {
   "cell_type": "code",
   "execution_count": null,
   "metadata": {},
   "outputs": [],
   "source": [
    "SELECT * FROM pivot_sales\n",
    "-- Use the operator to convert columns into rows\n",
    "unpivot\n",
    "\t-- The resulting column that will contain the turned columns into rows\n",
    "\t(units FOR product_name IN (notebooks, pencils, crayons))\n",
    "-- Give the alias name\n",
    "AS unpivot_sales"
   ]
  }
 ],
 "metadata": {
  "kernelspec": {
   "display_name": "Python 3",
   "language": "python",
   "name": "python3"
  },
  "language_info": {
   "codemirror_mode": {
    "name": "ipython",
    "version": 3
   },
   "file_extension": ".py",
   "mimetype": "text/x-python",
   "name": "python",
   "nbconvert_exporter": "python",
   "pygments_lexer": "ipython3",
   "version": "3.6.4"
  }
 },
 "nbformat": 4,
 "nbformat_minor": 2
}
